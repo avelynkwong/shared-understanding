{
 "cells": [
  {
   "cell_type": "code",
   "execution_count": 8,
   "metadata": {},
   "outputs": [],
   "source": [
    "import re\n",
    "import nltk\n",
    "from nltk.corpus import stopwords\n",
    "from nltk.tokenize import word_tokenize\n",
    "from collections import defaultdict, Counter\n",
    "import pandas as pd\n"
   ]
  },
  {
   "cell_type": "code",
   "execution_count": 18,
   "metadata": {},
   "outputs": [
    {
     "name": "stderr",
     "output_type": "stream",
     "text": [
      "[nltk_data] Downloading package punkt to\n",
      "[nltk_data]     /Users/avelynwong/nltk_data...\n",
      "[nltk_data]   Package punkt is already up-to-date!\n",
      "[nltk_data] Downloading package stopwords to\n",
      "[nltk_data]     /Users/avelynwong/nltk_data...\n",
      "[nltk_data]   Package stopwords is already up-to-date!\n"
     ]
    }
   ],
   "source": [
    "# Download necessary NLTK data\n",
    "nltk.download('punkt')\n",
    "nltk.download('stopwords')\n",
    "\n",
    "# Define stop words\n",
    "stop_words = set(stopwords.words('english'))\n",
    "\n",
    "def remove_non_latin_characters(token):\n",
    "    # Regular expression pattern to match non-Latin characters\n",
    "    return re.sub(r'[^a-zA-Z0-9]', '', token)\n",
    "\n",
    "def preprocess_texts(texts):\n",
    "    # Convert texts to lowercase\n",
    "    texts = [str(t) for t in texts]\n",
    "    texts = [text.lower() for text in texts]\n",
    "\n",
    "    # Tokenize texts\n",
    "    tokenized_texts = [word_tokenize(text) for text in texts]\n",
    "\n",
    "    # Remove non-Latin characters and stop words\n",
    "    cleaned_texts = []\n",
    "    for tokens in tokenized_texts:\n",
    "        cleaned_tokens = [remove_non_latin_characters(token) for token in tokens if token not in stop_words]\n",
    "        cleaned_texts.append([token for token in cleaned_tokens if token])  # Remove empty strings after cleaning\n",
    "\n",
    "    # Flatten the list of all words to calculate document frequency\n",
    "    all_words = [word for text in cleaned_texts for word in text]\n",
    "\n",
    "    # Count document frequency\n",
    "    word_freq = Counter(all_words)\n",
    "\n",
    "    # Remove words with document frequency less than 5\n",
    "    cleaned_texts = [[word for word in text if word_freq[word] >= 5] for text in cleaned_texts]\n",
    "\n",
    "    # Filter out texts with length less than 2\n",
    "    final_texts = [text for text in cleaned_texts if len(text) >= 2]\n",
    "\n",
    "    return final_texts"
   ]
  },
  {
   "cell_type": "code",
   "execution_count": 16,
   "metadata": {},
   "outputs": [],
   "source": [
    "def save_texts_to_file(processed_texts, filename):\n",
    "    with open(filename, 'w') as file:\n",
    "        for text in processed_texts:\n",
    "            # Join the tokens back into a string\n",
    "            file.write(' '.join(text) + '\\n')"
   ]
  },
  {
   "cell_type": "code",
   "execution_count": 19,
   "metadata": {},
   "outputs": [],
   "source": [
    "messages = pd.read_csv(\"message_df.csv\")[\"text\"]\n",
    "messages = list(messages)\n",
    "\n",
    "processed = preprocess_texts(messages)\n",
    "save_texts_to_file(processed, \"messages.txt\")"
   ]
  }
 ],
 "metadata": {
  "kernelspec": {
   "display_name": "readylab",
   "language": "python",
   "name": "python3"
  },
  "language_info": {
   "codemirror_mode": {
    "name": "ipython",
    "version": 3
   },
   "file_extension": ".py",
   "mimetype": "text/x-python",
   "name": "python",
   "nbconvert_exporter": "python",
   "pygments_lexer": "ipython3",
   "version": "3.11.5"
  },
  "orig_nbformat": 4
 },
 "nbformat": 4,
 "nbformat_minor": 2
}
